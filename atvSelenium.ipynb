{
 "cells": [
  {
   "cell_type": "code",
   "execution_count": 1,
   "metadata": {},
   "outputs": [],
   "source": [
    "from selenium import webdriver\n",
    "from webdriver_manager.chrome import ChromeDriverManager\n",
    "from selenium.webdriver.chrome.service import Service"
   ]
  },
  {
   "cell_type": "code",
   "execution_count": 2,
   "metadata": {},
   "outputs": [],
   "source": [
    "servico = Service(ChromeDriverManager().install())\n",
    "\n",
    "# Configurar o driver do Selenium (neste exemplo, usando o ChromeDriver)\n",
    "driver = webdriver.Chrome(service=servico)"
   ]
  },
  {
   "cell_type": "code",
   "execution_count": 11,
   "metadata": {},
   "outputs": [],
   "source": [
    "# Abrir o formulário no navegador\n",
    "driver.get('https://www.datadt.com.br/form_exercicio.html')\n",
    "\n",
    "# Preencher os campos do formulário\n",
    "nome_input = driver.find_element('xpath','//*[@id=\"nome\"]')\n",
    "nome_input.send_keys('Ana Mendes')\n",
    "\n",
    "cpf_input = driver.find_element('xpath','//*[@id=\"cpf\"]')\n",
    "cpf_input.send_keys('063.444.688-70')\n",
    "\n",
    "email_input = driver.find_element('xpath','//*[@id=\"email\"]')\n",
    "email_input.send_keys('ana@teste.com')\n",
    "\n",
    "tel_input = driver.find_element('xpath','//*[@id=\"telefone\"]')\n",
    "tel_input.send_keys('32233230')\n",
    "\n",
    "end_input = driver.find_element('xpath','//*[@id=\"endereco\"]')\n",
    "end_input.send_keys('Av Teste 1415')\n",
    "\n",
    "cidade_input = driver.find_element('xpath','//*[@id=\"cidade\"]')\n",
    "cidade_input.send_keys('Fortaleza')\n",
    "\n",
    "estado_input = driver.find_element('xpath','//*[@id=\"estado\"]')\n",
    "estado_input.send_keys('Ceará')\n"
   ]
  },
  {
   "cell_type": "code",
   "execution_count": 13,
   "metadata": {},
   "outputs": [
    {
     "ename": "SyntaxError",
     "evalue": "invalid syntax (1673694162.py, line 2)",
     "output_type": "error",
     "traceback": [
      "\u001b[1;36m  Cell \u001b[1;32mIn[13], line 2\u001b[1;36m\u001b[0m\n\u001b[1;33m    salvar_button = driver.find_element('xpath',\"//*[@id=\"formulario\"]\")\u001b[0m\n\u001b[1;37m                                                          ^\u001b[0m\n\u001b[1;31mSyntaxError\u001b[0m\u001b[1;31m:\u001b[0m invalid syntax\n"
     ]
    }
   ],
   "source": [
    "# Clicar no botão \"Salvar\"\n",
    "salvar_button = driver.find_element('xpath',\"//input[@value='Salvar']\")\n",
    "salvar_button.click()"
   ]
  }
 ],
 "metadata": {
  "kernelspec": {
   "display_name": "Python 3",
   "language": "python",
   "name": "python3"
  },
  "language_info": {
   "codemirror_mode": {
    "name": "ipython",
    "version": 3
   },
   "file_extension": ".py",
   "mimetype": "text/x-python",
   "name": "python",
   "nbconvert_exporter": "python",
   "pygments_lexer": "ipython3",
   "version": "3.9.7"
  },
  "orig_nbformat": 4
 },
 "nbformat": 4,
 "nbformat_minor": 2
}
